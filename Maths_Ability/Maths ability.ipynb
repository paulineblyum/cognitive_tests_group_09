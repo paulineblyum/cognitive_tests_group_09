from IPython.display import clear_output
import time

random.seed(1)

def ask_question(eq1_list,solution):
    
    for i in range(len(eq1_list)):
        clear_output(wait=True)
        print(eq1_list[i])
        time.sleep(2)
        
        clear_output(wait=True)
    
    ans = input("Enter the solution: ")
    clear_output(wait=True)
    
    if int(ans) == solution:
        score = 1
        print("Correct!")
    else:
        score = 0
        print("Incorrect!")
        
    return score

print("Welcome to the Maths Ability test")
time.sleep(1)
clear_output(wait=False)

name = input ("What's your name?")
age = input ("How old are you")
    
print("Calculate the following equations:")
time.sleep(1)

total_score = 0
total_time = 0
start_time = time.time()
duration = 180  # 3 minutes in seconds

all_questions = [['1', '+2'],['15', '-4'], ['17','*3'], ['45','/5'], ['53', '+12'], ['34','-26'],['3','*4','+6'], 
                 ['48','/2','-3'], ['(9+2)','*8'], ['56','/7','*0','+16'], ['11', '^2']]

solutions = [3, 11, 51, 9, 65, 8, 18, 21, 88, 16, 121]

i = 0

while time.time() - start_time < duration and i < len(all_questions):
    qstart = time.time()
    result = ask_question(all_questions[i],solutions[i])
    qend = time.time()
    qtime = qend - qstart
    total_time = total_time + qtime
    total_score = total_score + result
    i = i + 1
    print ("Scores earned:", total_score)
    time.sleep(2)

average_time = total_time / i

print("Time's up! Your final score:", total_score)
print(average_time)

score = input("Enter the number of scores earned:")
time = input("Enter the average time it took you to complete the test:")
time.sleep(3)
clear_output(wait=False)

data_consent_info = "DATA CONSENT INFORMATION:"

print("Please read:")
print("We wish to record your response data to an anonymised public data repository.")
print("Your data will be used for educational teaching purposes, practising data analysis and visualisation.")
print("Please type yes in the box below if you consent to the upload.")

print(data_consent_info)
result = input("> ")

if result == "yes":
    print("Thanks for your participation.") 
    print("Please contact philip.lewis@ucl.ac.uk")
    print("If you have any questions or concerns")
    print("regarding the stored results.")

else:
    raise(Exception("User did not consent to continue test."))
