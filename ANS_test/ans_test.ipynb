{
 "cells": [
  {
   "cell_type": "code",
   "execution_count": 3,
   "id": "8690ae8c-0cfa-48fc-a319-609174ffbfff",
   "metadata": {},
   "outputs": [
    {
     "data": {
      "text/html": [
       "<h1>You've scored 8 points!</h1>"
      ],
      "text/plain": [
       "<IPython.core.display.HTML object>"
      ]
     },
     "metadata": {},
     "output_type": "display_data"
    },
    {
     "name": "stdout",
     "output_type": "stream",
     "text": [
      "Please read:\n",
      "\n",
      "we wish to record your response data\n",
      "to an anonymised public data repository. \n",
      "Your data will be used for educational teaching purposes\n",
      "practising data analysis and visualisation.\n",
      "\n",
      "Please type yes in the box below if you consent to the upload.\n"
     ]
    },
    {
     "name": "stdin",
     "output_type": "stream",
     "text": [
      ">  yes\n",
      "What is your first name? Miko\n"
     ]
    },
    {
     "name": "stdout",
     "output_type": "stream",
     "text": [
      "Thanks - your data will be uploaded.\n"
     ]
    }
   ],
   "source": [
    "from IPython.display import display, Image, clear_output, HTML\n",
    "import time\n",
    "import random\n",
    "\n",
    "random.seed(1)\n",
    "\n",
    "style = 'color:green; font-size:30px;'\n",
    "welcome_message = HTML(f'<h1>Welcome to the ANS test...</h1>')\n",
    "welcome_message_two = HTML(f'<h1>...where we measure your approximate number sense.</h1>')\n",
    "display(welcome_message)\n",
    "time.sleep(3)\n",
    "display(welcome_message_two)\n",
    "time.sleep(3)\n",
    "\n",
    "empty = Image('empty.png', width = 500)\n",
    "p1 = Image('14 - 12.png', width = 500)\n",
    "p2 = Image('15 - 20.png', width = 500)\n",
    "p3 = Image('16 - 12.png', width = 500)\n",
    "p4 = Image('18 - 16.png', width = 500)\n",
    "p5 = Image('18 - 20.png', width = 500)\n",
    "p6 = Image('18 - 21.png', width = 500)\n",
    "p7 = Image('9 - 10.png', width = 500)\n",
    "p8 = Image('9 - 12.png', width = 500)\n",
    "\n",
    "answers = {\n",
    "    p1:'left',\n",
    "    p2:'right',\n",
    "    p3:'left',\n",
    "    p4:'left',\n",
    "    p5:'right',\n",
    "    p6:'right',\n",
    "    p7:'right',\n",
    "    p8:'right'\n",
    "}\n",
    "\n",
    "all_trials = [p1, p2, p3, p4, p5, p6, p7, p8]\n",
    "random.shuffle(all_trials)\n",
    "\n",
    "display(empty)\n",
    "time.sleep(1.5)\n",
    "clear_output(wait=False)\n",
    "\n",
    "score = 0\n",
    "\n",
    "for trial in range(0, 8):\n",
    "    random.shuffle(all_trials)\n",
    "    display(all_trials[0])\n",
    "    time.sleep(0.75)\n",
    "    clear_output(wait=False)\n",
    "    display(empty)\n",
    "    \n",
    "    prompt = input(\"Which side had more dots? left or right?\")\n",
    "    if prompt == answers[all_trials[0]]:\n",
    "        score = score + 1\n",
    "        print(f'Correct!')\n",
    "    else:\n",
    "        print(f'Incorrect!')\n",
    "    print(score)\n",
    "\n",
    "    time.sleep(1.5)\n",
    "    clear_output(wait=False)\n",
    "\n",
    "score_message = HTML(f\"<h1>You've scored {score} points!</h1>\")\n",
    "display(score_message)\n",
    "\n",
    "print(\"Please read:\")\n",
    "print(\"\")\n",
    "print(\"we wish to record your response data\")\n",
    "print(\"to an anonymised public data repository. \")\n",
    "print(\"Your data will be used for educational teaching purposes\")\n",
    "print(\"practising data analysis and visualisation.\")\n",
    "print(\"\")\n",
    "print(\"Please type yes in the box below if you consent to the upload.\")\n",
    "result = input(\"> \")\n",
    "if result == \"yes\":\n",
    "    name_store = []\n",
    "    name = input('What is your first name?')\n",
    "    name_store.append(name)\n",
    "    score_store = []\n",
    "    score_store.append(score)\n",
    "    print(\"Thanks - your data will be uploaded.\")\n",
    "#send_to_google_form(data_dict, form_url)\n",
    "else:\n",
    "    print(\"No problem we hope you enjoyed the test.\")\n",
    "# final"
   ]
  },
  {
   "cell_type": "code",
   "execution_count": null,
   "id": "0d5883d8-e368-4187-91cf-9f348a4d8f8a",
   "metadata": {},
   "outputs": [],
   "source": []
  }
 ],
 "metadata": {
  "kernelspec": {
   "display_name": "Python 3 (ipykernel)",
   "language": "python",
   "name": "python3"
  },
  "language_info": {
   "codemirror_mode": {
    "name": "ipython",
    "version": 3
   },
   "file_extension": ".py",
   "mimetype": "text/x-python",
   "name": "python",
   "nbconvert_exporter": "python",
   "pygments_lexer": "ipython3",
   "version": "3.10.10"
  }
 },
 "nbformat": 4,
 "nbformat_minor": 5
}
